{
 "cells": [
  {
   "cell_type": "markdown",
   "id": "124e5672",
   "metadata": {},
   "source": [
    "# Custom Chatbot Project"
   ]
  },
  {
   "cell_type": "markdown",
   "id": "2a4a94b3",
   "metadata": {},
   "source": [
    "#### Scope\n",
    "This is the project which will be implemented the RAG approach to customize the chatbot using the provided dataset.\n",
    "\n",
    "#### Data source\n",
    "The dataset named 'character_descriptions.csv' is the file contained the characters information such as name, short description, medium and setting.\n",
    "\n",
    "#### Reason for selection\n",
    "I chose this dataset because it includes character descriptions from theater, television, and film productions, all created by an OpenAI model. Since the dataset doesn't exist in real life, the LLM won't have prior knowledge of it, making it ideal for testing the RAG approach. Additionally, if the LLM generates hallucinated answers, we can easily trace and compare them with the grounded answers."
   ]
  },
  {
   "cell_type": "markdown",
   "id": "a63d4c5f",
   "metadata": {},
   "source": [
    "## Data Wrangling"
   ]
  },
  {
   "cell_type": "code",
   "execution_count": 25,
   "id": "c69b83a1",
   "metadata": {},
   "outputs": [],
   "source": [
    "import pandas as pd\n",
    "import tiktoken\n",
    "import numpy as np\n",
    "from openai.embeddings_utils import get_embedding, distances_from_embeddings"
   ]
  },
  {
   "cell_type": "code",
   "execution_count": 14,
   "id": "0a595980",
   "metadata": {},
   "outputs": [
    {
     "data": {
      "text/html": [
       "<div>\n",
       "<style scoped>\n",
       "    .dataframe tbody tr th:only-of-type {\n",
       "        vertical-align: middle;\n",
       "    }\n",
       "\n",
       "    .dataframe tbody tr th {\n",
       "        vertical-align: top;\n",
       "    }\n",
       "\n",
       "    .dataframe thead th {\n",
       "        text-align: right;\n",
       "    }\n",
       "</style>\n",
       "<table border=\"1\" class=\"dataframe\">\n",
       "  <thead>\n",
       "    <tr style=\"text-align: right;\">\n",
       "      <th></th>\n",
       "      <th>Name</th>\n",
       "      <th>Description</th>\n",
       "      <th>Medium</th>\n",
       "      <th>Setting</th>\n",
       "    </tr>\n",
       "  </thead>\n",
       "  <tbody>\n",
       "    <tr>\n",
       "      <th>0</th>\n",
       "      <td>Emily</td>\n",
       "      <td>A young woman in her early 20s, Emily is an as...</td>\n",
       "      <td>Play</td>\n",
       "      <td>England</td>\n",
       "    </tr>\n",
       "    <tr>\n",
       "      <th>1</th>\n",
       "      <td>Jack</td>\n",
       "      <td>A middle-aged man in his 40s, Jack is a succes...</td>\n",
       "      <td>Play</td>\n",
       "      <td>England</td>\n",
       "    </tr>\n",
       "    <tr>\n",
       "      <th>2</th>\n",
       "      <td>Alice</td>\n",
       "      <td>A woman in her late 30s, Alice is a warm and n...</td>\n",
       "      <td>Play</td>\n",
       "      <td>England</td>\n",
       "    </tr>\n",
       "  </tbody>\n",
       "</table>\n",
       "</div>"
      ],
      "text/plain": [
       "    Name                                        Description Medium  Setting\n",
       "0  Emily  A young woman in her early 20s, Emily is an as...   Play  England\n",
       "1   Jack  A middle-aged man in his 40s, Jack is a succes...   Play  England\n",
       "2  Alice  A woman in her late 30s, Alice is a warm and n...   Play  England"
      ]
     },
     "execution_count": 14,
     "metadata": {},
     "output_type": "execute_result"
    }
   ],
   "source": [
    "df = pd.read_csv(\"data/character_descriptions.csv\", index_col=False)\n",
    "df.head(3)"
   ]
  },
  {
   "cell_type": "code",
   "execution_count": null,
   "id": "acb3a9fd",
   "metadata": {},
   "outputs": [],
   "source": [
    "#Create the text column that describe the data"
   ]
  },
  {
   "cell_type": "code",
   "execution_count": 17,
   "id": "9ee10a1c",
   "metadata": {},
   "outputs": [],
   "source": [
    "pd.options.display.max_colwidth = 200"
   ]
  },
  {
   "cell_type": "code",
   "execution_count": 18,
   "id": "77cb0c67",
   "metadata": {},
   "outputs": [],
   "source": [
    "df['text'] = df['Name'] + \" is \" \\\n",
    "+ df['Description'] + \". This character appears in the \" \\\n",
    "+ df['Medium'] + \" in \" + df['Setting']"
   ]
  },
  {
   "cell_type": "code",
   "execution_count": 20,
   "id": "415c62e8",
   "metadata": {},
   "outputs": [
    {
     "data": {
      "text/html": [
       "<div>\n",
       "<style scoped>\n",
       "    .dataframe tbody tr th:only-of-type {\n",
       "        vertical-align: middle;\n",
       "    }\n",
       "\n",
       "    .dataframe tbody tr th {\n",
       "        vertical-align: top;\n",
       "    }\n",
       "\n",
       "    .dataframe thead th {\n",
       "        text-align: right;\n",
       "    }\n",
       "</style>\n",
       "<table border=\"1\" class=\"dataframe\">\n",
       "  <thead>\n",
       "    <tr style=\"text-align: right;\">\n",
       "      <th></th>\n",
       "      <th>Name</th>\n",
       "      <th>Description</th>\n",
       "      <th>Medium</th>\n",
       "      <th>Setting</th>\n",
       "      <th>text</th>\n",
       "    </tr>\n",
       "  </thead>\n",
       "  <tbody>\n",
       "    <tr>\n",
       "      <th>0</th>\n",
       "      <td>Emily</td>\n",
       "      <td>A young woman in her early 20s, Emily is an aspiring actress and Alice's daughter. She has a bubbly personality and a quick wit, but struggles with self-doubt and insecurity. She's also in a relat...</td>\n",
       "      <td>Play</td>\n",
       "      <td>England</td>\n",
       "      <td>Emily is A young woman in her early 20s, Emily is an aspiring actress and Alice's daughter. She has a bubbly personality and a quick wit, but struggles with self-doubt and insecurity. She's also i...</td>\n",
       "    </tr>\n",
       "    <tr>\n",
       "      <th>1</th>\n",
       "      <td>Jack</td>\n",
       "      <td>A middle-aged man in his 40s, Jack is a successful businessman and Sarah's boss. He has a no-nonsense attitude, but is fiercely loyal to his friends and family. He's married to Alice.</td>\n",
       "      <td>Play</td>\n",
       "      <td>England</td>\n",
       "      <td>Jack is A middle-aged man in his 40s, Jack is a successful businessman and Sarah's boss. He has a no-nonsense attitude, but is fiercely loyal to his friends and family. He's married to Alice.. Thi...</td>\n",
       "    </tr>\n",
       "    <tr>\n",
       "      <th>2</th>\n",
       "      <td>Alice</td>\n",
       "      <td>A woman in her late 30s, Alice is a warm and nurturing mother of two, including Emily. She's kind-hearted and empathetic, but can be overly protective of her children and prone to worrying. She's ...</td>\n",
       "      <td>Play</td>\n",
       "      <td>England</td>\n",
       "      <td>Alice is A woman in her late 30s, Alice is a warm and nurturing mother of two, including Emily. She's kind-hearted and empathetic, but can be overly protective of her children and prone to worryin...</td>\n",
       "    </tr>\n",
       "  </tbody>\n",
       "</table>\n",
       "</div>"
      ],
      "text/plain": [
       "    Name  \\\n",
       "0  Emily   \n",
       "1   Jack   \n",
       "2  Alice   \n",
       "\n",
       "                                                                                                                                                                                               Description  \\\n",
       "0  A young woman in her early 20s, Emily is an aspiring actress and Alice's daughter. She has a bubbly personality and a quick wit, but struggles with self-doubt and insecurity. She's also in a relat...   \n",
       "1                  A middle-aged man in his 40s, Jack is a successful businessman and Sarah's boss. He has a no-nonsense attitude, but is fiercely loyal to his friends and family. He's married to Alice.   \n",
       "2  A woman in her late 30s, Alice is a warm and nurturing mother of two, including Emily. She's kind-hearted and empathetic, but can be overly protective of her children and prone to worrying. She's ...   \n",
       "\n",
       "  Medium  Setting  \\\n",
       "0   Play  England   \n",
       "1   Play  England   \n",
       "2   Play  England   \n",
       "\n",
       "                                                                                                                                                                                                      text  \n",
       "0  Emily is A young woman in her early 20s, Emily is an aspiring actress and Alice's daughter. She has a bubbly personality and a quick wit, but struggles with self-doubt and insecurity. She's also i...  \n",
       "1  Jack is A middle-aged man in his 40s, Jack is a successful businessman and Sarah's boss. He has a no-nonsense attitude, but is fiercely loyal to his friends and family. He's married to Alice.. Thi...  \n",
       "2  Alice is A woman in her late 30s, Alice is a warm and nurturing mother of two, including Emily. She's kind-hearted and empathetic, but can be overly protective of her children and prone to worryin...  "
      ]
     },
     "execution_count": 20,
     "metadata": {},
     "output_type": "execute_result"
    }
   ],
   "source": [
    "df.head(3)"
   ]
  },
  {
   "cell_type": "code",
   "execution_count": null,
   "id": "4136763a",
   "metadata": {},
   "outputs": [],
   "source": [
    "# Embedding the text column"
   ]
  },
  {
   "cell_type": "code",
   "execution_count": 21,
   "id": "6207b695",
   "metadata": {},
   "outputs": [],
   "source": [
    "import openai\n",
    "openai.api_base = \"https://openai.vocareum.com/v1\"\n",
    "# This is the OpenAI Key. For security reason, I fill to \"some_key\" after completing the exercise\n",
    "openai.api_key = \"some_key\" "
   ]
  },
  {
   "cell_type": "code",
   "execution_count": 23,
   "id": "d0de9829",
   "metadata": {},
   "outputs": [
    {
     "data": {
      "text/html": [
       "<div>\n",
       "<style scoped>\n",
       "    .dataframe tbody tr th:only-of-type {\n",
       "        vertical-align: middle;\n",
       "    }\n",
       "\n",
       "    .dataframe tbody tr th {\n",
       "        vertical-align: top;\n",
       "    }\n",
       "\n",
       "    .dataframe thead th {\n",
       "        text-align: right;\n",
       "    }\n",
       "</style>\n",
       "<table border=\"1\" class=\"dataframe\">\n",
       "  <thead>\n",
       "    <tr style=\"text-align: right;\">\n",
       "      <th></th>\n",
       "      <th>Name</th>\n",
       "      <th>Description</th>\n",
       "      <th>Medium</th>\n",
       "      <th>Setting</th>\n",
       "      <th>text</th>\n",
       "      <th>embeddings</th>\n",
       "    </tr>\n",
       "  </thead>\n",
       "  <tbody>\n",
       "    <tr>\n",
       "      <th>0</th>\n",
       "      <td>Emily</td>\n",
       "      <td>A young woman in her early 20s, Emily is an aspiring actress and Alice's daughter. She has a bubbly personality and a quick wit, but struggles with self-doubt and insecurity. She's also in a relat...</td>\n",
       "      <td>Play</td>\n",
       "      <td>England</td>\n",
       "      <td>Emily is A young woman in her early 20s, Emily is an aspiring actress and Alice's daughter. She has a bubbly personality and a quick wit, but struggles with self-doubt and insecurity. She's also i...</td>\n",
       "      <td>[-0.01430389191955328, -0.01158975437283516, -0.01025841198861599, -0.022510621696710587, -0.04231996834278107, 0.02829906716942787, -0.006560238543897867, 0.021442975848913193, -0.006984724197536...</td>\n",
       "    </tr>\n",
       "    <tr>\n",
       "      <th>1</th>\n",
       "      <td>Jack</td>\n",
       "      <td>A middle-aged man in his 40s, Jack is a successful businessman and Sarah's boss. He has a no-nonsense attitude, but is fiercely loyal to his friends and family. He's married to Alice.</td>\n",
       "      <td>Play</td>\n",
       "      <td>England</td>\n",
       "      <td>Jack is A middle-aged man in his 40s, Jack is a successful businessman and Sarah's boss. He has a no-nonsense attitude, but is fiercely loyal to his friends and family. He's married to Alice.. Thi...</td>\n",
       "      <td>[0.00760793499648571, -0.0193692147731781, -0.004855364561080933, -0.02933463081717491, -0.03568219393491745, 0.022151172161102295, -0.005119846202433109, 0.007124684285372496, 0.00632797321304678...</td>\n",
       "    </tr>\n",
       "    <tr>\n",
       "      <th>2</th>\n",
       "      <td>Alice</td>\n",
       "      <td>A woman in her late 30s, Alice is a warm and nurturing mother of two, including Emily. She's kind-hearted and empathetic, but can be overly protective of her children and prone to worrying. She's ...</td>\n",
       "      <td>Play</td>\n",
       "      <td>England</td>\n",
       "      <td>Alice is A woman in her late 30s, Alice is a warm and nurturing mother of two, including Emily. She's kind-hearted and empathetic, but can be overly protective of her children and prone to worryin...</td>\n",
       "      <td>[0.005332021042704582, -0.00995962880551815, -0.016684170812368393, -0.030602866783738136, -0.04646522179245949, 0.031515996903181076, -0.0008214084664359689, 0.02061062678694725, 0.00577554106712...</td>\n",
       "    </tr>\n",
       "    <tr>\n",
       "      <th>3</th>\n",
       "      <td>Tom</td>\n",
       "      <td>A man in his 50s, Tom is a retired soldier and John's son. He has a no-nonsense approach to life, but is haunted by his experiences in combat and struggles with PTSD. He's also in a relationship w...</td>\n",
       "      <td>Play</td>\n",
       "      <td>England</td>\n",
       "      <td>Tom is A man in his 50s, Tom is a retired soldier and John's son. He has a no-nonsense approach to life, but is haunted by his experiences in combat and struggles with PTSD. He's also in a relatio...</td>\n",
       "      <td>[0.01569385640323162, -0.015496697276830673, -0.005185281857848167, -0.013170220889151096, -0.027628548443317413, 0.044111039489507675, 0.009082457982003689, 0.002807872835546732, -0.0213720351457...</td>\n",
       "    </tr>\n",
       "    <tr>\n",
       "      <th>4</th>\n",
       "      <td>Sarah</td>\n",
       "      <td>A woman in her mid-20s, Sarah is a free-spirited artist and Jack's employee. She's creative, unconventional, and passionate about her work. However, she can also be flighty and impulsive at times.</td>\n",
       "      <td>Play</td>\n",
       "      <td>England</td>\n",
       "      <td>Sarah is A woman in her mid-20s, Sarah is a free-spirited artist and Jack's employee. She's creative, unconventional, and passionate about her work. However, she can also be flighty and impulsive ...</td>\n",
       "      <td>[-0.015658441931009293, -0.02574547939002514, -0.01528955902904272, -0.013814027421176434, -0.03856733813881874, 0.007123255170881748, -0.015060597099363804, 0.012739178724586964, -0.0152005180716...</td>\n",
       "    </tr>\n",
       "  </tbody>\n",
       "</table>\n",
       "</div>"
      ],
      "text/plain": [
       "    Name  \\\n",
       "0  Emily   \n",
       "1   Jack   \n",
       "2  Alice   \n",
       "3    Tom   \n",
       "4  Sarah   \n",
       "\n",
       "                                                                                                                                                                                               Description  \\\n",
       "0  A young woman in her early 20s, Emily is an aspiring actress and Alice's daughter. She has a bubbly personality and a quick wit, but struggles with self-doubt and insecurity. She's also in a relat...   \n",
       "1                  A middle-aged man in his 40s, Jack is a successful businessman and Sarah's boss. He has a no-nonsense attitude, but is fiercely loyal to his friends and family. He's married to Alice.   \n",
       "2  A woman in her late 30s, Alice is a warm and nurturing mother of two, including Emily. She's kind-hearted and empathetic, but can be overly protective of her children and prone to worrying. She's ...   \n",
       "3  A man in his 50s, Tom is a retired soldier and John's son. He has a no-nonsense approach to life, but is haunted by his experiences in combat and struggles with PTSD. He's also in a relationship w...   \n",
       "4     A woman in her mid-20s, Sarah is a free-spirited artist and Jack's employee. She's creative, unconventional, and passionate about her work. However, she can also be flighty and impulsive at times.   \n",
       "\n",
       "  Medium  Setting  \\\n",
       "0   Play  England   \n",
       "1   Play  England   \n",
       "2   Play  England   \n",
       "3   Play  England   \n",
       "4   Play  England   \n",
       "\n",
       "                                                                                                                                                                                                      text  \\\n",
       "0  Emily is A young woman in her early 20s, Emily is an aspiring actress and Alice's daughter. She has a bubbly personality and a quick wit, but struggles with self-doubt and insecurity. She's also i...   \n",
       "1  Jack is A middle-aged man in his 40s, Jack is a successful businessman and Sarah's boss. He has a no-nonsense attitude, but is fiercely loyal to his friends and family. He's married to Alice.. Thi...   \n",
       "2  Alice is A woman in her late 30s, Alice is a warm and nurturing mother of two, including Emily. She's kind-hearted and empathetic, but can be overly protective of her children and prone to worryin...   \n",
       "3  Tom is A man in his 50s, Tom is a retired soldier and John's son. He has a no-nonsense approach to life, but is haunted by his experiences in combat and struggles with PTSD. He's also in a relatio...   \n",
       "4  Sarah is A woman in her mid-20s, Sarah is a free-spirited artist and Jack's employee. She's creative, unconventional, and passionate about her work. However, she can also be flighty and impulsive ...   \n",
       "\n",
       "                                                                                                                                                                                                embeddings  \n",
       "0  [-0.01430389191955328, -0.01158975437283516, -0.01025841198861599, -0.022510621696710587, -0.04231996834278107, 0.02829906716942787, -0.006560238543897867, 0.021442975848913193, -0.006984724197536...  \n",
       "1  [0.00760793499648571, -0.0193692147731781, -0.004855364561080933, -0.02933463081717491, -0.03568219393491745, 0.022151172161102295, -0.005119846202433109, 0.007124684285372496, 0.00632797321304678...  \n",
       "2  [0.005332021042704582, -0.00995962880551815, -0.016684170812368393, -0.030602866783738136, -0.04646522179245949, 0.031515996903181076, -0.0008214084664359689, 0.02061062678694725, 0.00577554106712...  \n",
       "3  [0.01569385640323162, -0.015496697276830673, -0.005185281857848167, -0.013170220889151096, -0.027628548443317413, 0.044111039489507675, 0.009082457982003689, 0.002807872835546732, -0.0213720351457...  \n",
       "4  [-0.015658441931009293, -0.02574547939002514, -0.01528955902904272, -0.013814027421176434, -0.03856733813881874, 0.007123255170881748, -0.015060597099363804, 0.012739178724586964, -0.0152005180716...  "
      ]
     },
     "execution_count": 23,
     "metadata": {},
     "output_type": "execute_result"
    }
   ],
   "source": [
    "EMBEDDING_MODEL_NAME = \"text-embedding-ada-002\"\n",
    "batch_size = 100\n",
    "embeddings = []\n",
    "for i in range(0, len(df), batch_size):\n",
    "    # Send text data to OpenAI model to get embeddings\n",
    "    response = openai.Embedding.create(\n",
    "        input=df.iloc[i:i+batch_size][\"text\"].tolist(),\n",
    "        engine=EMBEDDING_MODEL_NAME\n",
    "    )\n",
    "    \n",
    "    # Add embeddings to list\n",
    "    embeddings.extend([data[\"embedding\"] for data in response[\"data\"]])\n",
    "\n",
    "# Add embeddings list to dataframe\n",
    "df[\"embeddings\"] = embeddings\n",
    "df.head()"
   ]
  },
  {
   "cell_type": "code",
   "execution_count": 26,
   "id": "5aa8dce5",
   "metadata": {},
   "outputs": [],
   "source": [
    "\n",
    "def get_cosine_distance_sorted(question, df):\n",
    "    \"\"\"\n",
    "    This function do as following:\n",
    "    - First, embedding the user question\n",
    "    - Next, create a copy of the df dataframe. \n",
    "      Create the distances column that shows the difference from user question to text column\n",
    "    - Sort the value of distances by ascending order (the closer distance the more relevant)\n",
    "    \"\"\"\n",
    "\n",
    "    # Get the embedding for user question\n",
    "    question_embeddings = get_embedding(question, engine=EMBEDDING_MODEL_NAME)\n",
    "\n",
    "    # Copy the current dataframe. Create distances column\n",
    "    df1 = df.copy()\n",
    "    df1[\"distances\"] = distances_from_embeddings(question_embeddings,\n",
    "                                                df1[\"embeddings\"].values,\n",
    "                                                distance_metric=\"cosine\")\n",
    "\n",
    "    # Order by ascending order. The closer distance mean better relevant\n",
    "    df1.sort_values(\"distances\", ascending=True, inplace=True)\n",
    "    return df1"
   ]
  },
  {
   "cell_type": "markdown",
   "id": "ae769871",
   "metadata": {},
   "source": [
    "## Custom Query Completion"
   ]
  },
  {
   "cell_type": "code",
   "execution_count": 28,
   "id": "ca001a63",
   "metadata": {},
   "outputs": [],
   "source": [
    "# tiktoken to count the total token\n",
    "tokenizer = tiktoken.get_encoding(\"cl100k_base\")"
   ]
  },
  {
   "cell_type": "code",
   "execution_count": 32,
   "id": "b76f1d5e",
   "metadata": {},
   "outputs": [],
   "source": [
    "def get_relevant_context(prompt_template:str, question:str, df: pd.DataFrame, max_token_count: int):\n",
    "    \"\"\"\n",
    "    This function will calculate total tokens sent to Openai\n",
    "    As long as the total token do not exceed the max token limit, append all context to list\n",
    "    Return the list of relevant context\n",
    "    \"\"\"\n",
    "    \n",
    "    # Count total token\n",
    "    current_token_count = len(tokenizer.encode(prompt_template)) + len(tokenizer.encode(question))\n",
    "\n",
    "    # List of contexts to send to Openai\n",
    "    context = []\n",
    "    for text in get_cosine_distance_sorted(question, df)[\"text\"].values:\n",
    "        text_token_count = len(tokenizer.encode(text))\n",
    "        current_token_count += text_token_count\n",
    "        # if not exceed max tokens, append to context\n",
    "        if current_token_count <= max_token_count:\n",
    "            context.append(text)\n",
    "        else:\n",
    "            break\n",
    "    return context"
   ]
  },
  {
   "cell_type": "code",
   "execution_count": 38,
   "id": "582f0656",
   "metadata": {},
   "outputs": [],
   "source": [
    "def prompt_and_context(question, df, max_token_count):\n",
    "    \"\"\"\n",
    "    Format the prompt template, add relevant contexts to guide chatbot to answer user questions.\n",
    "    This is no-shot example.\n",
    "    \"\"\"\n",
    "\n",
    "    # Prompt template to instruct the chatbot\n",
    "    prompt_template = \"\"\"\n",
    "    You are a smart assistant to answer the question based on provided context. \\\n",
    "    If the question can not be answered based on the provided contexts, only say \\ \n",
    "    \"The question is out of scope. Could you please check your question or ask another question\". Do not try to \\\n",
    "    answer the question out of the provide contexts.\n",
    "    Context: \n",
    "\n",
    "    {}\n",
    "\n",
    "    ---\n",
    "\n",
    "    Question: {}\n",
    "    Answer:\"\"\"\n",
    "\n",
    "    # Get the relevant context\n",
    "    context = get_relevant_context(prompt_template = prompt_template, question = question, \n",
    "                                   df = df, max_token_count = max_token_count)\n",
    "    # Format the prompt template\n",
    "    prompt_template = prompt_template.format(\"\\n\\n###\\n\\n\".join(context), question)\n",
    "\n",
    "    return prompt_template"
   ]
  },
  {
   "cell_type": "markdown",
   "id": "1783f146",
   "metadata": {},
   "source": [
    "## Custom Performance Demonstration"
   ]
  },
  {
   "cell_type": "markdown",
   "id": "4f11fdc0",
   "metadata": {},
   "source": [
    "### Question 1"
   ]
  },
  {
   "cell_type": "code",
   "execution_count": 34,
   "id": "087baa5e",
   "metadata": {},
   "outputs": [
    {
     "data": {
      "text/plain": [
       "\"Emily is A young woman in her early 20s, Emily is an aspiring actress and Alice's daughter. She has a bubbly personality and a quick wit, but struggles with self-doubt and insecurity. She's also in a relationship with George.. This character appears in the Play in England\""
      ]
     },
     "execution_count": 34,
     "metadata": {},
     "output_type": "execute_result"
    }
   ],
   "source": [
    "df['text'].iloc[0]"
   ]
  },
  {
   "cell_type": "code",
   "execution_count": 35,
   "id": "4901c850",
   "metadata": {},
   "outputs": [],
   "source": [
    "question_1 = \"Who is in the relationship with George?\""
   ]
  },
  {
   "cell_type": "code",
   "execution_count": 36,
   "id": "bd7a093b",
   "metadata": {},
   "outputs": [
    {
     "data": {
      "text/plain": [
       "'\\n\\nIt is unclear who George is in a relationship with. More information is needed to answer this question.'"
      ]
     },
     "execution_count": 36,
     "metadata": {},
     "output_type": "execute_result"
    }
   ],
   "source": [
    "# The general question \"question_1\" is sent to Openai\n",
    "# Thus, the response is unknown\n",
    "answer1_without_context = openai.Completion.create(\n",
    "    model=\"gpt-3.5-turbo-instruct\",\n",
    "    prompt=question_1,\n",
    "    max_tokens=150\n",
    ")\n",
    "answer1_without_context[\"choices\"][0][\"text\"]"
   ]
  },
  {
   "cell_type": "code",
   "execution_count": 37,
   "id": "925aac89",
   "metadata": {},
   "outputs": [
    {
     "data": {
      "text/plain": [
       "' Emily is in a relationship with George.'"
      ]
     },
     "execution_count": 37,
     "metadata": {},
     "output_type": "execute_result"
    }
   ],
   "source": [
    "# The question is sent along with relevant contexts\n",
    "# Thus, the response is as expected (Emily is in a relationship with George)\n",
    "answer1_customized = openai.Completion.create(\n",
    "  model=\"gpt-3.5-turbo-instruct\",\n",
    "  prompt=prompt_and_context(question_1, df, 2000),\n",
    "    max_tokens=150\n",
    ")\n",
    "answer1_customized[\"choices\"][0][\"text\"]"
   ]
  },
  {
   "cell_type": "markdown",
   "id": "6e86e37c",
   "metadata": {},
   "source": [
    "### Question 2"
   ]
  },
  {
   "cell_type": "code",
   "execution_count": 39,
   "id": "6f646989",
   "metadata": {},
   "outputs": [
    {
     "data": {
      "text/plain": [
       "\"Jack is A middle-aged man in his 40s, Jack is a successful businessman and Sarah's boss. He has a no-nonsense attitude, but is fiercely loyal to his friends and family. He's married to Alice.. This character appears in the Play in England\""
      ]
     },
     "execution_count": 39,
     "metadata": {},
     "output_type": "execute_result"
    }
   ],
   "source": [
    "df['text'].iloc[1]"
   ]
  },
  {
   "cell_type": "code",
   "execution_count": 40,
   "id": "380c9b96",
   "metadata": {},
   "outputs": [],
   "source": [
    "question_2 = \"Which man married to Alice and appears in the Play in England?\""
   ]
  },
  {
   "cell_type": "code",
   "execution_count": 43,
   "id": "7ee0acc8",
   "metadata": {},
   "outputs": [
    {
     "data": {
      "text/plain": [
       "'\\n\\nThe man who was married to Alice and appears in the play in England is John of Gaunt. He is the Duke of Lancaster and also the father of the protagonist, Henry Bolingbroke.'"
      ]
     },
     "execution_count": 43,
     "metadata": {},
     "output_type": "execute_result"
    }
   ],
   "source": [
    "# The general question \"question_2\" is sent to Openai\n",
    "# Thus, the response is hallucinated\n",
    "answer2_without_context = openai.Completion.create(\n",
    "    model=\"gpt-3.5-turbo-instruct\",\n",
    "    prompt=question_2,\n",
    "    max_tokens=150\n",
    ")\n",
    "answer2_without_context[\"choices\"][0][\"text\"]"
   ]
  },
  {
   "cell_type": "code",
   "execution_count": 46,
   "id": "11c07a54",
   "metadata": {},
   "outputs": [
    {
     "data": {
      "text/plain": [
       "' Jack'"
      ]
     },
     "execution_count": 46,
     "metadata": {},
     "output_type": "execute_result"
    }
   ],
   "source": [
    "# The question is sent along with relevant contexts\n",
    "# Thus, the response is as expected (Jack married to Alice and appears in the Play in England)\n",
    "answer2_customized = openai.Completion.create(\n",
    "  model=\"gpt-3.5-turbo-instruct\",\n",
    "  prompt=prompt_and_context(question_2, df, 2000),\n",
    "    max_tokens=150\n",
    ")\n",
    "answer2_customized[\"choices\"][0][\"text\"]"
   ]
  }
 ],
 "metadata": {
  "kernelspec": {
   "display_name": "Python 3 (ipykernel)",
   "language": "python",
   "name": "python3"
  },
  "language_info": {
   "codemirror_mode": {
    "name": "ipython",
    "version": 3
   },
   "file_extension": ".py",
   "mimetype": "text/x-python",
   "name": "python",
   "nbconvert_exporter": "python",
   "pygments_lexer": "ipython3",
   "version": "3.9.18"
  }
 },
 "nbformat": 4,
 "nbformat_minor": 5
}
